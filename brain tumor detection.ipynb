{
 "cells": [
  {
   "cell_type": "code",
   "execution_count": 1,
   "id": "41a8d538-9094-4e73-9b07-79e3c9983b4b",
   "metadata": {},
   "outputs": [
    {
     "name": "stdout",
     "output_type": "stream",
     "text": [
      "Please provide your Kaggle credentials to download this dataset. Learn more: http://bit.ly/kaggle-creds\n",
      "Your Kaggle username:"
     ]
    },
    {
     "name": "stdin",
     "output_type": "stream",
     "text": [
      "  harshitmaster\n"
     ]
    },
    {
     "name": "stdout",
     "output_type": "stream",
     "text": [
      "Your Kaggle Key:"
     ]
    },
    {
     "name": "stdin",
     "output_type": "stream",
     "text": [
      "  ········\n"
     ]
    },
    {
     "name": "stdout",
     "output_type": "stream",
     "text": [
      "Downloading brain-mri-images-for-brain-tumor-detection.zip to .\\brain-mri-images-for-brain-tumor-detection\n"
     ]
    },
    {
     "name": "stderr",
     "output_type": "stream",
     "text": [
      "100%|██████████| 15.1M/15.1M [00:02<00:00, 5.68MB/s]\n"
     ]
    },
    {
     "name": "stdout",
     "output_type": "stream",
     "text": [
      "\n"
     ]
    }
   ],
   "source": [
    "import opendatasets as od\n",
    "od.download(\"https://www.kaggle.com/datasets/navoneel/brain-mri-images-for-brain-tumor-detection\")"
   ]
  },
  {
   "cell_type": "code",
   "execution_count": 3,
   "id": "6658410f-3b5d-433c-9225-b243462aa12a",
   "metadata": {},
   "outputs": [],
   "source": [
    "import numpy as np # linear algebra\n",
    "import pandas as pd # data processing, CSV file I/O (e.g. pd.read_csv)\n",
    "import math\n",
    "import cv2\n",
    "import matplotlib.pyplot as plt\n",
    "import os\n",
    "import seaborn as sns\n",
    "import umap\n",
    "from PIL import Image\n",
    "from scipy import misc\n",
    "from os import listdir\n",
    "from os.path import isfile, join\n",
    "import numpy as np\n",
    "from scipy import misc\n",
    "from random import shuffle\n",
    "from collections import Counter\n",
    "import matplotlib.pyplot as plt\n",
    "from sklearn.decomposition import PCA\n",
    "from sklearn.manifold import TSNE\n",
    "import tensorflow as tf\n",
    "from keras.models import Sequential\n",
    "from keras.layers import Conv2D, MaxPooling2D\n",
    "from keras.layers import Activation, Dropout, Flatten, Dense\n",
    "from keras.utils.np_utils import to_categorical"
   ]
  },
  {
   "cell_type": "code",
   "execution_count": 6,
   "id": "ef3fa228-ac8d-45cf-bc99-f9acec246fd9",
   "metadata": {},
   "outputs": [
    {
     "data": {
      "text/plain": [
       "['no', 'yes']"
      ]
     },
     "execution_count": 6,
     "metadata": {},
     "output_type": "execute_result"
    }
   ],
   "source": [
    "os.listdir('brain-mri-images-for-brain-tumor-detection/brain_tumor_dataset')"
   ]
  },
  {
   "cell_type": "code",
   "execution_count": 7,
   "id": "8f89120e-d6f0-42eb-94c8-024a7335d4a9",
   "metadata": {},
   "outputs": [],
   "source": [
    "yes=os.listdir('brain-mri-images-for-brain-tumor-detection/brain_tumor_dataset/yes')\n",
    "no=os.listdir('brain-mri-images-for-brain-tumor-detection/brain_tumor_dataset/no')"
   ]
  },
  {
   "cell_type": "code",
   "execution_count": 8,
   "id": "1317e53b-bcca-4e74-83fa-d077a8cb0acd",
   "metadata": {},
   "outputs": [
    {
     "data": {
      "text/plain": [
       "True"
      ]
     },
     "execution_count": 8,
     "metadata": {},
     "output_type": "execute_result"
    }
   ],
   "source": [
    "data=np.concatenate([yes,no])\n",
    "len(data)==len(yes)+len(no)"
   ]
  },
  {
   "cell_type": "code",
   "execution_count": 9,
   "id": "83ad7cff-8a2d-4c67-8400-8c3c9a2ea17a",
   "metadata": {},
   "outputs": [
    {
     "data": {
      "text/plain": [
       "True"
      ]
     },
     "execution_count": 9,
     "metadata": {},
     "output_type": "execute_result"
    }
   ],
   "source": [
    "target_x=np.full(len(yes),1)\n",
    "target_y=np.full(len(no),0)\n",
    "data_target=np.concatenate([target_x,target_y])\n",
    "len(data_target)==len(target_x)+len(target_y)"
   ]
  },
  {
   "cell_type": "code",
   "execution_count": 10,
   "id": "d933ac6f-988f-47a9-94ff-71326668c82e",
   "metadata": {},
   "outputs": [
    {
     "data": {
      "text/plain": [
       "True"
      ]
     },
     "execution_count": 10,
     "metadata": {},
     "output_type": "execute_result"
    }
   ],
   "source": [
    "len(data_target)==len(data)"
   ]
  },
  {
   "cell_type": "code",
   "execution_count": 11,
   "id": "0ff7d073-4c47-40df-940b-cc90439cc746",
   "metadata": {},
   "outputs": [],
   "source": [
    "yes_values=os.listdir('brain-mri-images-for-brain-tumor-detection/brain_tumor_dataset/yes')\n",
    "no_values=os.listdir('brain-mri-images-for-brain-tumor-detection/brain_tumor_dataset/no')"
   ]
  },
  {
   "cell_type": "code",
   "execution_count": 15,
   "id": "73555e87-ab6a-4d21-afeb-2655317eaf69",
   "metadata": {},
   "outputs": [],
   "source": [
    "X_data =[]\n",
    "for file in yes_values:\n",
    "    #face = misc.imread('../input/brain_tumor_dataset/yes/'+file)\n",
    "    img = cv2.imread('brain-mri-images-for-brain-tumor-detection/brain_tumor_dataset/yes/'+file)\n",
    "    face = cv2.resize(img, (32, 32) )\n",
    "    (b, g, r)=cv2.split(face) \n",
    "    img=cv2.merge([r,g,b])\n",
    "    X_data.append(img)"
   ]
  },
  {
   "cell_type": "code",
   "execution_count": 17,
   "id": "24a9b40b-7c4b-4acf-975e-014ff0ff62de",
   "metadata": {},
   "outputs": [
    {
     "data": {
      "text/plain": [
       "True"
      ]
     },
     "execution_count": 17,
     "metadata": {},
     "output_type": "execute_result"
    }
   ],
   "source": [
    "#X_data =[]\n",
    "for file in no_values:\n",
    "    #face = misc.imread('../input/brain_tumor_dataset/yes/'+file)\n",
    "    img = cv2.imread('brain-mri-images-for-brain-tumor-detection/brain_tumor_dataset/no/'+file)\n",
    "    face = cv2.resize(img, (32, 32) )\n",
    "    (b, g, r)=cv2.split(face) \n",
    "    img=cv2.merge([r,g,b])\n",
    "    X_data.append(img)\n",
    "len(X_data)==len(data)==len(data_target)"
   ]
  },
  {
   "cell_type": "code",
   "execution_count": 18,
   "id": "6a9fcb53-932d-4189-ba80-13c96e26e6e5",
   "metadata": {},
   "outputs": [],
   "source": [
    "X = np.squeeze(X_data)"
   ]
  },
  {
   "cell_type": "code",
   "execution_count": 19,
   "id": "8d521ab2-2c62-4dfb-8e91-1f71c5065eff",
   "metadata": {},
   "outputs": [
    {
     "data": {
      "text/plain": [
       "(253, 32, 32, 3)"
      ]
     },
     "execution_count": 19,
     "metadata": {},
     "output_type": "execute_result"
    }
   ],
   "source": [
    "X.shape"
   ]
  },
  {
   "cell_type": "code",
   "execution_count": 20,
   "id": "899ea89c-43d0-41c6-80b8-262f526d29de",
   "metadata": {},
   "outputs": [],
   "source": [
    "# normalize data\n",
    "X = X.astype('float32')\n",
    "X /= 255"
   ]
  },
  {
   "cell_type": "code",
   "execution_count": 21,
   "id": "e192dcca-590d-4ae3-a9bd-89e1eadd0a64",
   "metadata": {},
   "outputs": [],
   "source": [
    "(x_train, y_train), (x_test, y_test) = (X[:190],data_target[:190]) , (X[190:] , data_target[190:])\n",
    "(x_valid , y_valid) = (x_test[:63], y_test[:63])"
   ]
  },
  {
   "cell_type": "code",
   "execution_count": 22,
   "id": "3d1cf4d9-2a98-4621-9a5e-29c7acb82c4c",
   "metadata": {},
   "outputs": [
    {
     "name": "stdout",
     "output_type": "stream",
     "text": [
      "Model: \"sequential\"\n",
      "_________________________________________________________________\n",
      " Layer (type)                Output Shape              Param #   \n",
      "=================================================================\n",
      " conv2d (Conv2D)             (None, 32, 32, 16)        3904      \n",
      "                                                                 \n",
      " max_pooling2d (MaxPooling2D  (None, 16, 16, 16)       0         \n",
      " )                                                               \n",
      "                                                                 \n",
      " dropout (Dropout)           (None, 16, 16, 16)        0         \n",
      "                                                                 \n",
      " conv2d_1 (Conv2D)           (None, 16, 16, 16)        20752     \n",
      "                                                                 \n",
      " max_pooling2d_1 (MaxPooling  (None, 8, 8, 16)         0         \n",
      " 2D)                                                             \n",
      "                                                                 \n",
      " dropout_1 (Dropout)         (None, 8, 8, 16)          0         \n",
      "                                                                 \n",
      " conv2d_2 (Conv2D)           (None, 8, 8, 36)          46692     \n",
      "                                                                 \n",
      " max_pooling2d_2 (MaxPooling  (None, 4, 4, 36)         0         \n",
      " 2D)                                                             \n",
      "                                                                 \n",
      " dropout_2 (Dropout)         (None, 4, 4, 36)          0         \n",
      "                                                                 \n",
      " flatten (Flatten)           (None, 576)               0         \n",
      "                                                                 \n",
      " dense (Dense)               (None, 512)               295424    \n",
      "                                                                 \n",
      " dropout_3 (Dropout)         (None, 512)               0         \n",
      "                                                                 \n",
      " dense_1 (Dense)             (None, 1)                 513       \n",
      "                                                                 \n",
      "=================================================================\n",
      "Total params: 367,285\n",
      "Trainable params: 367,285\n",
      "Non-trainable params: 0\n",
      "_________________________________________________________________\n"
     ]
    }
   ],
   "source": [
    "model = tf.keras.Sequential()\n",
    "\n",
    "# Must define the input shape in the first layer of the neural network\n",
    "model.add(tf.keras.layers.Conv2D(filters=16,kernel_size=9, padding='same', activation='relu', input_shape=(32,32,3))) \n",
    "model.add(tf.keras.layers.MaxPooling2D(pool_size=2))\n",
    "model.add(tf.keras.layers.Dropout(0.45))\n",
    "\n",
    "model.add(tf.keras.layers.Conv2D(filters=16,kernel_size=9,padding='same', activation='relu'))\n",
    "model.add(tf.keras.layers.MaxPooling2D(pool_size=2))\n",
    "model.add(tf.keras.layers.Dropout(0.25))\n",
    "\n",
    "model.add(tf.keras.layers.Conv2D(filters=36, kernel_size=9, padding='same', activation='relu'))\n",
    "model.add(tf.keras.layers.MaxPooling2D(pool_size=2))\n",
    "model.add(tf.keras.layers.Dropout(0.25))\n",
    "\n",
    "model.add(tf.keras.layers.Flatten())\n",
    "\n",
    "model.add(tf.keras.layers.Dense(512, activation='relu'))\n",
    "model.add(tf.keras.layers.Dropout(0.15))\n",
    "\n",
    "\n",
    "model.add(tf.keras.layers.Dense(1, activation='sigmoid'))\n",
    "\n",
    "# Take a look at the model summary\n",
    "model.summary()"
   ]
  },
  {
   "cell_type": "code",
   "execution_count": 23,
   "id": "1a8d9b1e-8430-4457-b8c7-fccefd000488",
   "metadata": {},
   "outputs": [],
   "source": [
    "model.compile(loss='binary_crossentropy',\n",
    "             optimizer=tf.keras.optimizers.Adam(),\n",
    "             metrics=['acc'])"
   ]
  },
  {
   "cell_type": "code",
   "execution_count": 32,
   "id": "b3c8749d-68ff-4061-b771-1aa2b4abd89e",
   "metadata": {},
   "outputs": [
    {
     "name": "stdout",
     "output_type": "stream",
     "text": [
      "Epoch 1/150\n",
      "2/2 [==============================] - 0s 184ms/step - loss: 7.6186e-04 - acc: 1.0000 - val_loss: 5.1960 - val_acc: 0.6508\n",
      "Epoch 2/150\n",
      "2/2 [==============================] - 0s 157ms/step - loss: 6.8049e-05 - acc: 1.0000 - val_loss: 5.2705 - val_acc: 0.6508\n",
      "Epoch 3/150\n",
      "2/2 [==============================] - 0s 148ms/step - loss: 0.0015 - acc: 1.0000 - val_loss: 5.2312 - val_acc: 0.6667\n",
      "Epoch 4/150\n",
      "2/2 [==============================] - 0s 146ms/step - loss: 3.9572e-06 - acc: 1.0000 - val_loss: 5.2010 - val_acc: 0.6667\n",
      "Epoch 5/150\n",
      "2/2 [==============================] - 0s 160ms/step - loss: 5.1050e-05 - acc: 1.0000 - val_loss: 5.1750 - val_acc: 0.6667\n",
      "Epoch 6/150\n",
      "2/2 [==============================] - 0s 145ms/step - loss: 1.5319e-05 - acc: 1.0000 - val_loss: 5.1510 - val_acc: 0.6984\n",
      "Epoch 7/150\n",
      "2/2 [==============================] - 0s 160ms/step - loss: 1.4219e-05 - acc: 1.0000 - val_loss: 5.1315 - val_acc: 0.6984\n",
      "Epoch 8/150\n",
      "2/2 [==============================] - 0s 148ms/step - loss: 1.3051e-04 - acc: 1.0000 - val_loss: 5.1128 - val_acc: 0.6984\n",
      "Epoch 9/150\n",
      "2/2 [==============================] - 0s 146ms/step - loss: 1.6752e-04 - acc: 1.0000 - val_loss: 5.0929 - val_acc: 0.6984\n",
      "Epoch 10/150\n",
      "2/2 [==============================] - 0s 151ms/step - loss: 1.1441e-05 - acc: 1.0000 - val_loss: 5.0731 - val_acc: 0.6984\n",
      "Epoch 11/150\n",
      "2/2 [==============================] - 0s 145ms/step - loss: 9.4462e-06 - acc: 1.0000 - val_loss: 5.0573 - val_acc: 0.6984\n",
      "Epoch 12/150\n",
      "2/2 [==============================] - 0s 147ms/step - loss: 4.3293e-06 - acc: 1.0000 - val_loss: 5.0446 - val_acc: 0.6984\n",
      "Epoch 13/150\n",
      "2/2 [==============================] - 0s 149ms/step - loss: 2.2480e-06 - acc: 1.0000 - val_loss: 5.0346 - val_acc: 0.6984\n",
      "Epoch 14/150\n",
      "2/2 [==============================] - 0s 146ms/step - loss: 2.3286e-05 - acc: 1.0000 - val_loss: 5.0278 - val_acc: 0.6984\n",
      "Epoch 15/150\n",
      "2/2 [==============================] - 0s 147ms/step - loss: 2.1376e-06 - acc: 1.0000 - val_loss: 5.0224 - val_acc: 0.6984\n",
      "Epoch 16/150\n",
      "2/2 [==============================] - 0s 148ms/step - loss: 2.1484e-05 - acc: 1.0000 - val_loss: 5.0171 - val_acc: 0.6984\n",
      "Epoch 17/150\n",
      "2/2 [==============================] - 0s 153ms/step - loss: 4.9454e-06 - acc: 1.0000 - val_loss: 5.0130 - val_acc: 0.6984\n",
      "Epoch 18/150\n",
      "2/2 [==============================] - 0s 150ms/step - loss: 6.3082e-06 - acc: 1.0000 - val_loss: 5.0100 - val_acc: 0.6984\n",
      "Epoch 19/150\n",
      "2/2 [==============================] - 0s 153ms/step - loss: 7.0700e-05 - acc: 1.0000 - val_loss: 5.0139 - val_acc: 0.6984\n",
      "Epoch 20/150\n",
      "2/2 [==============================] - 0s 150ms/step - loss: 2.7484e-04 - acc: 1.0000 - val_loss: 5.0002 - val_acc: 0.6984\n",
      "Epoch 21/150\n",
      "2/2 [==============================] - 0s 153ms/step - loss: 1.1187e-04 - acc: 1.0000 - val_loss: 4.9843 - val_acc: 0.6984\n",
      "Epoch 22/150\n",
      "2/2 [==============================] - 0s 159ms/step - loss: 7.0558e-05 - acc: 1.0000 - val_loss: 4.9787 - val_acc: 0.6984\n",
      "Epoch 23/150\n",
      "2/2 [==============================] - 0s 154ms/step - loss: 4.4593e-06 - acc: 1.0000 - val_loss: 4.9807 - val_acc: 0.6984\n",
      "Epoch 24/150\n",
      "2/2 [==============================] - 0s 156ms/step - loss: 3.6096e-06 - acc: 1.0000 - val_loss: 4.9825 - val_acc: 0.6984\n",
      "Epoch 25/150\n",
      "2/2 [==============================] - 0s 154ms/step - loss: 2.8029e-05 - acc: 1.0000 - val_loss: 4.9866 - val_acc: 0.6984\n",
      "Epoch 26/150\n",
      "2/2 [==============================] - 0s 156ms/step - loss: 1.8829e-05 - acc: 1.0000 - val_loss: 4.9902 - val_acc: 0.6984\n",
      "Epoch 27/150\n",
      "2/2 [==============================] - 0s 155ms/step - loss: 1.4749e-05 - acc: 1.0000 - val_loss: 4.9946 - val_acc: 0.6984\n",
      "Epoch 28/150\n",
      "2/2 [==============================] - 0s 154ms/step - loss: 2.7092e-05 - acc: 1.0000 - val_loss: 4.9987 - val_acc: 0.6984\n",
      "Epoch 29/150\n",
      "2/2 [==============================] - 0s 154ms/step - loss: 1.2192e-06 - acc: 1.0000 - val_loss: 5.0013 - val_acc: 0.6984\n",
      "Epoch 30/150\n",
      "2/2 [==============================] - 0s 159ms/step - loss: 1.3819e-05 - acc: 1.0000 - val_loss: 5.0035 - val_acc: 0.6984\n",
      "Epoch 31/150\n",
      "2/2 [==============================] - 0s 154ms/step - loss: 5.1902e-06 - acc: 1.0000 - val_loss: 5.0054 - val_acc: 0.6984\n",
      "Epoch 32/150\n",
      "2/2 [==============================] - 0s 153ms/step - loss: 5.3396e-06 - acc: 1.0000 - val_loss: 5.0070 - val_acc: 0.6984\n",
      "Epoch 33/150\n",
      "2/2 [==============================] - 0s 161ms/step - loss: 7.9896e-06 - acc: 1.0000 - val_loss: 5.0085 - val_acc: 0.6984\n",
      "Epoch 34/150\n",
      "2/2 [==============================] - 0s 153ms/step - loss: 6.0624e-05 - acc: 1.0000 - val_loss: 5.0058 - val_acc: 0.6984\n",
      "Epoch 35/150\n",
      "2/2 [==============================] - 0s 152ms/step - loss: 1.8993e-04 - acc: 1.0000 - val_loss: 4.9793 - val_acc: 0.6984\n",
      "Epoch 36/150\n",
      "2/2 [==============================] - 0s 165ms/step - loss: 5.7004e-06 - acc: 1.0000 - val_loss: 4.9387 - val_acc: 0.6984\n",
      "Epoch 37/150\n",
      "2/2 [==============================] - 0s 152ms/step - loss: 2.2732e-05 - acc: 1.0000 - val_loss: 4.9053 - val_acc: 0.6984\n",
      "Epoch 38/150\n",
      "2/2 [==============================] - 0s 155ms/step - loss: 3.6711e-04 - acc: 1.0000 - val_loss: 4.8395 - val_acc: 0.6984\n",
      "Epoch 39/150\n",
      "2/2 [==============================] - 0s 151ms/step - loss: 4.4198e-06 - acc: 1.0000 - val_loss: 4.7872 - val_acc: 0.7143\n",
      "Epoch 40/150\n",
      "2/2 [==============================] - 0s 159ms/step - loss: 6.1933e-06 - acc: 1.0000 - val_loss: 4.7456 - val_acc: 0.7143\n",
      "Epoch 41/150\n",
      "2/2 [==============================] - 0s 149ms/step - loss: 7.1289e-06 - acc: 1.0000 - val_loss: 4.7125 - val_acc: 0.7143\n",
      "Epoch 42/150\n",
      "2/2 [==============================] - 0s 148ms/step - loss: 1.7652e-05 - acc: 1.0000 - val_loss: 4.6872 - val_acc: 0.7143\n",
      "Epoch 43/150\n",
      "2/2 [==============================] - 0s 146ms/step - loss: 1.7834e-05 - acc: 1.0000 - val_loss: 4.6679 - val_acc: 0.7143\n",
      "Epoch 44/150\n",
      "2/2 [==============================] - 0s 148ms/step - loss: 2.5337e-04 - acc: 1.0000 - val_loss: 4.6715 - val_acc: 0.7143\n",
      "Epoch 45/150\n",
      "2/2 [==============================] - 0s 154ms/step - loss: 5.0965e-06 - acc: 1.0000 - val_loss: 4.6789 - val_acc: 0.7143\n",
      "Epoch 46/150\n",
      "2/2 [==============================] - 0s 146ms/step - loss: 2.0135e-05 - acc: 1.0000 - val_loss: 4.6857 - val_acc: 0.7143\n",
      "Epoch 47/150\n",
      "2/2 [==============================] - 0s 154ms/step - loss: 2.9245e-05 - acc: 1.0000 - val_loss: 4.6929 - val_acc: 0.7143\n",
      "Epoch 48/150\n",
      "2/2 [==============================] - 0s 145ms/step - loss: 7.6519e-06 - acc: 1.0000 - val_loss: 4.6992 - val_acc: 0.7143\n",
      "Epoch 49/150\n",
      "2/2 [==============================] - 0s 145ms/step - loss: 4.8747e-06 - acc: 1.0000 - val_loss: 4.7047 - val_acc: 0.7143\n",
      "Epoch 50/150\n",
      "2/2 [==============================] - 0s 153ms/step - loss: 5.7002e-06 - acc: 1.0000 - val_loss: 4.7092 - val_acc: 0.7143\n",
      "Epoch 51/150\n",
      "2/2 [==============================] - 0s 147ms/step - loss: 3.9508e-05 - acc: 1.0000 - val_loss: 4.7198 - val_acc: 0.7143\n",
      "Epoch 52/150\n",
      "2/2 [==============================] - 0s 146ms/step - loss: 2.3709e-04 - acc: 1.0000 - val_loss: 4.7160 - val_acc: 0.7143\n",
      "Epoch 53/150\n",
      "2/2 [==============================] - 0s 153ms/step - loss: 1.3463e-05 - acc: 1.0000 - val_loss: 4.7134 - val_acc: 0.7143\n",
      "Epoch 54/150\n",
      "2/2 [==============================] - 0s 152ms/step - loss: 1.6515e-05 - acc: 1.0000 - val_loss: 4.7123 - val_acc: 0.7143\n",
      "Epoch 55/150\n",
      "2/2 [==============================] - 0s 148ms/step - loss: 1.9558e-06 - acc: 1.0000 - val_loss: 4.7115 - val_acc: 0.7143\n",
      "Epoch 56/150\n",
      "2/2 [==============================] - 0s 152ms/step - loss: 7.5345e-05 - acc: 1.0000 - val_loss: 4.7140 - val_acc: 0.7143\n",
      "Epoch 57/150\n",
      "2/2 [==============================] - 0s 150ms/step - loss: 7.6157e-06 - acc: 1.0000 - val_loss: 4.7166 - val_acc: 0.7143\n",
      "Epoch 58/150\n",
      "2/2 [==============================] - 0s 149ms/step - loss: 6.8752e-06 - acc: 1.0000 - val_loss: 4.7191 - val_acc: 0.7143\n",
      "Epoch 59/150\n",
      "2/2 [==============================] - 0s 151ms/step - loss: 3.2846e-04 - acc: 1.0000 - val_loss: 4.7452 - val_acc: 0.7143\n",
      "Epoch 60/150\n",
      "2/2 [==============================] - 0s 148ms/step - loss: 5.3399e-06 - acc: 1.0000 - val_loss: 4.7881 - val_acc: 0.7143\n",
      "Epoch 61/150\n",
      "2/2 [==============================] - 0s 187ms/step - loss: 7.3106e-06 - acc: 1.0000 - val_loss: 4.8225 - val_acc: 0.7143\n",
      "Epoch 62/150\n",
      "2/2 [==============================] - 0s 150ms/step - loss: 1.9891e-06 - acc: 1.0000 - val_loss: 4.8508 - val_acc: 0.6984\n",
      "Epoch 63/150\n",
      "2/2 [==============================] - 0s 146ms/step - loss: 1.4349e-05 - acc: 1.0000 - val_loss: 4.8750 - val_acc: 0.6984\n",
      "Epoch 64/150\n",
      "2/2 [==============================] - 0s 153ms/step - loss: 3.3285e-06 - acc: 1.0000 - val_loss: 4.8951 - val_acc: 0.6984\n",
      "Epoch 65/150\n",
      "2/2 [==============================] - 0s 147ms/step - loss: 9.5100e-04 - acc: 1.0000 - val_loss: 4.9716 - val_acc: 0.6984\n",
      "Epoch 66/150\n",
      "2/2 [==============================] - 0s 154ms/step - loss: 4.7027e-05 - acc: 1.0000 - val_loss: 5.0852 - val_acc: 0.6984\n",
      "Epoch 67/150\n",
      "2/2 [==============================] - 0s 157ms/step - loss: 6.3516e-06 - acc: 1.0000 - val_loss: 5.1773 - val_acc: 0.6984\n",
      "Epoch 68/150\n",
      "2/2 [==============================] - 0s 160ms/step - loss: 9.3670e-05 - acc: 1.0000 - val_loss: 5.2577 - val_acc: 0.6984\n",
      "Epoch 69/150\n",
      "2/2 [==============================] - 0s 183ms/step - loss: 5.3403e-06 - acc: 1.0000 - val_loss: 5.3220 - val_acc: 0.6984\n",
      "Epoch 70/150\n",
      "2/2 [==============================] - 0s 154ms/step - loss: 9.4005e-06 - acc: 1.0000 - val_loss: 5.3741 - val_acc: 0.6984\n",
      "Epoch 71/150\n",
      "2/2 [==============================] - 0s 153ms/step - loss: 4.7644e-06 - acc: 1.0000 - val_loss: 5.4168 - val_acc: 0.6984\n",
      "Epoch 72/150\n",
      "2/2 [==============================] - 0s 157ms/step - loss: 2.4887e-04 - acc: 1.0000 - val_loss: 5.4287 - val_acc: 0.6984\n",
      "Epoch 73/150\n",
      "2/2 [==============================] - 0s 155ms/step - loss: 1.5959e-05 - acc: 1.0000 - val_loss: 5.4205 - val_acc: 0.6984\n",
      "Epoch 74/150\n",
      "2/2 [==============================] - 0s 155ms/step - loss: 5.4745e-06 - acc: 1.0000 - val_loss: 5.4141 - val_acc: 0.6984\n",
      "Epoch 75/150\n",
      "2/2 [==============================] - 0s 161ms/step - loss: 1.2974e-04 - acc: 1.0000 - val_loss: 5.4115 - val_acc: 0.6984\n",
      "Epoch 76/150\n",
      "2/2 [==============================] - 0s 163ms/step - loss: 9.3010e-05 - acc: 1.0000 - val_loss: 5.4178 - val_acc: 0.6984\n",
      "Epoch 77/150\n",
      "2/2 [==============================] - 0s 157ms/step - loss: 8.3550e-06 - acc: 1.0000 - val_loss: 5.4318 - val_acc: 0.6984\n",
      "Epoch 78/150\n",
      "2/2 [==============================] - 0s 157ms/step - loss: 7.9316e-06 - acc: 1.0000 - val_loss: 5.4427 - val_acc: 0.6984\n",
      "Epoch 79/150\n",
      "2/2 [==============================] - 0s 155ms/step - loss: 6.4824e-06 - acc: 1.0000 - val_loss: 5.4513 - val_acc: 0.6984\n",
      "Epoch 80/150\n",
      "2/2 [==============================] - 0s 163ms/step - loss: 9.4842e-06 - acc: 1.0000 - val_loss: 5.4580 - val_acc: 0.6984\n",
      "Epoch 81/150\n",
      "2/2 [==============================] - 0s 160ms/step - loss: 1.1117e-05 - acc: 1.0000 - val_loss: 5.4635 - val_acc: 0.6984\n",
      "Epoch 82/150\n",
      "2/2 [==============================] - 0s 165ms/step - loss: 9.0107e-04 - acc: 1.0000 - val_loss: 5.4282 - val_acc: 0.6984\n",
      "Epoch 83/150\n",
      "2/2 [==============================] - 0s 163ms/step - loss: 7.2419e-06 - acc: 1.0000 - val_loss: 5.4000 - val_acc: 0.6984\n",
      "Epoch 84/150\n",
      "2/2 [==============================] - 0s 160ms/step - loss: 3.7793e-06 - acc: 1.0000 - val_loss: 5.3776 - val_acc: 0.6984\n",
      "Epoch 85/150\n",
      "2/2 [==============================] - 0s 159ms/step - loss: 2.1268e-05 - acc: 1.0000 - val_loss: 5.3593 - val_acc: 0.6984\n",
      "Epoch 86/150\n",
      "2/2 [==============================] - 0s 159ms/step - loss: 6.3942e-06 - acc: 1.0000 - val_loss: 5.3444 - val_acc: 0.6984\n",
      "Epoch 87/150\n",
      "2/2 [==============================] - 0s 159ms/step - loss: 8.2361e-05 - acc: 1.0000 - val_loss: 5.3310 - val_acc: 0.6984\n",
      "Epoch 88/150\n",
      "2/2 [==============================] - 0s 167ms/step - loss: 9.0572e-06 - acc: 1.0000 - val_loss: 5.3199 - val_acc: 0.6984\n",
      "Epoch 89/150\n",
      "2/2 [==============================] - 0s 157ms/step - loss: 1.2181e-05 - acc: 1.0000 - val_loss: 5.3118 - val_acc: 0.6984\n",
      "Epoch 90/150\n",
      "2/2 [==============================] - 0s 155ms/step - loss: 1.7660e-05 - acc: 1.0000 - val_loss: 5.3037 - val_acc: 0.6984\n",
      "Epoch 91/150\n",
      "2/2 [==============================] - 0s 159ms/step - loss: 5.1811e-05 - acc: 1.0000 - val_loss: 5.2954 - val_acc: 0.6984\n",
      "Epoch 92/150\n",
      "2/2 [==============================] - 0s 157ms/step - loss: 1.0857e-04 - acc: 1.0000 - val_loss: 5.2776 - val_acc: 0.6984\n",
      "Epoch 93/150\n",
      "2/2 [==============================] - 0s 153ms/step - loss: 1.2071e-05 - acc: 1.0000 - val_loss: 5.2541 - val_acc: 0.6984\n",
      "Epoch 94/150\n",
      "2/2 [==============================] - 0s 152ms/step - loss: 3.6325e-06 - acc: 1.0000 - val_loss: 5.2349 - val_acc: 0.6984\n",
      "Epoch 95/150\n",
      "2/2 [==============================] - 0s 154ms/step - loss: 1.7848e-05 - acc: 1.0000 - val_loss: 5.2200 - val_acc: 0.6984\n",
      "Epoch 96/150\n",
      "2/2 [==============================] - 0s 152ms/step - loss: 5.3941e-06 - acc: 1.0000 - val_loss: 5.2083 - val_acc: 0.6984\n",
      "Epoch 97/150\n",
      "2/2 [==============================] - 0s 148ms/step - loss: 1.0742e-04 - acc: 1.0000 - val_loss: 5.2155 - val_acc: 0.6984\n",
      "Epoch 98/150\n",
      "2/2 [==============================] - 0s 149ms/step - loss: 1.5045e-05 - acc: 1.0000 - val_loss: 5.2207 - val_acc: 0.6984\n",
      "Epoch 99/150\n",
      "2/2 [==============================] - 0s 155ms/step - loss: 5.4070e-06 - acc: 1.0000 - val_loss: 5.2245 - val_acc: 0.6984\n",
      "Epoch 100/150\n",
      "2/2 [==============================] - 0s 156ms/step - loss: 8.7066e-06 - acc: 1.0000 - val_loss: 5.2273 - val_acc: 0.6984\n",
      "Epoch 101/150\n",
      "2/2 [==============================] - 0s 147ms/step - loss: 5.5536e-06 - acc: 1.0000 - val_loss: 5.2294 - val_acc: 0.6984\n",
      "Epoch 102/150\n",
      "2/2 [==============================] - 0s 154ms/step - loss: 1.6798e-05 - acc: 1.0000 - val_loss: 5.2307 - val_acc: 0.6984\n",
      "Epoch 103/150\n",
      "2/2 [==============================] - 0s 156ms/step - loss: 5.8888e-06 - acc: 1.0000 - val_loss: 5.2319 - val_acc: 0.6984\n",
      "Epoch 104/150\n",
      "2/2 [==============================] - 0s 147ms/step - loss: 5.2896e-06 - acc: 1.0000 - val_loss: 5.2330 - val_acc: 0.6984\n",
      "Epoch 105/150\n",
      "2/2 [==============================] - 0s 156ms/step - loss: 7.7697e-06 - acc: 1.0000 - val_loss: 5.2338 - val_acc: 0.6984\n",
      "Epoch 106/150\n",
      "2/2 [==============================] - 0s 146ms/step - loss: 5.8417e-06 - acc: 1.0000 - val_loss: 5.2341 - val_acc: 0.6984\n",
      "Epoch 107/150\n",
      "2/2 [==============================] - 0s 146ms/step - loss: 3.4490e-06 - acc: 1.0000 - val_loss: 5.2346 - val_acc: 0.6984\n",
      "Epoch 108/150\n",
      "2/2 [==============================] - 0s 153ms/step - loss: 9.5976e-04 - acc: 1.0000 - val_loss: 5.1337 - val_acc: 0.6984\n",
      "Epoch 109/150\n",
      "2/2 [==============================] - 0s 150ms/step - loss: 3.3612e-06 - acc: 1.0000 - val_loss: 5.0511 - val_acc: 0.6984\n",
      "Epoch 110/150\n",
      "2/2 [==============================] - 0s 154ms/step - loss: 1.4703e-05 - acc: 1.0000 - val_loss: 4.9869 - val_acc: 0.6984\n",
      "Epoch 111/150\n",
      "2/2 [==============================] - 0s 155ms/step - loss: 3.8662e-05 - acc: 1.0000 - val_loss: 4.9350 - val_acc: 0.7143\n",
      "Epoch 112/150\n",
      "2/2 [==============================] - 0s 156ms/step - loss: 4.4361e-06 - acc: 1.0000 - val_loss: 4.8944 - val_acc: 0.7143\n",
      "Epoch 113/150\n",
      "2/2 [==============================] - 0s 154ms/step - loss: 6.1771e-05 - acc: 1.0000 - val_loss: 4.8643 - val_acc: 0.7143\n",
      "Epoch 114/150\n",
      "2/2 [==============================] - 0s 158ms/step - loss: 1.2792e-05 - acc: 1.0000 - val_loss: 4.8402 - val_acc: 0.7143\n",
      "Epoch 115/150\n",
      "2/2 [==============================] - 0s 155ms/step - loss: 1.8050e-05 - acc: 1.0000 - val_loss: 4.8215 - val_acc: 0.7143\n",
      "Epoch 116/150\n",
      "2/2 [==============================] - 0s 162ms/step - loss: 1.3817e-05 - acc: 1.0000 - val_loss: 4.8062 - val_acc: 0.7143\n",
      "Epoch 117/150\n",
      "2/2 [==============================] - 0s 154ms/step - loss: 3.2969e-05 - acc: 1.0000 - val_loss: 4.7983 - val_acc: 0.7143\n",
      "Epoch 118/150\n",
      "2/2 [==============================] - 0s 154ms/step - loss: 6.2711e-04 - acc: 1.0000 - val_loss: 4.8387 - val_acc: 0.7143\n",
      "Epoch 119/150\n",
      "2/2 [==============================] - 0s 153ms/step - loss: 9.5565e-06 - acc: 1.0000 - val_loss: 4.8700 - val_acc: 0.7143\n",
      "Epoch 120/150\n",
      "2/2 [==============================] - 0s 153ms/step - loss: 1.0487e-05 - acc: 1.0000 - val_loss: 4.8967 - val_acc: 0.7143\n",
      "Epoch 121/150\n",
      "2/2 [==============================] - 0s 156ms/step - loss: 1.7216e-05 - acc: 1.0000 - val_loss: 4.9209 - val_acc: 0.7143\n",
      "Epoch 122/150\n",
      "2/2 [==============================] - 0s 152ms/step - loss: 2.2164e-04 - acc: 1.0000 - val_loss: 4.9266 - val_acc: 0.7143\n",
      "Epoch 123/150\n",
      "2/2 [==============================] - 0s 160ms/step - loss: 9.2823e-06 - acc: 1.0000 - val_loss: 4.9308 - val_acc: 0.7143\n",
      "Epoch 124/150\n",
      "2/2 [==============================] - 0s 155ms/step - loss: 1.0970e-05 - acc: 1.0000 - val_loss: 4.9341 - val_acc: 0.7143\n",
      "Epoch 125/150\n",
      "2/2 [==============================] - 0s 158ms/step - loss: 1.4225e-05 - acc: 1.0000 - val_loss: 4.9378 - val_acc: 0.7143\n",
      "Epoch 126/150\n",
      "2/2 [==============================] - 0s 154ms/step - loss: 5.8205e-06 - acc: 1.0000 - val_loss: 4.9408 - val_acc: 0.6984\n",
      "Epoch 127/150\n",
      "2/2 [==============================] - 0s 182ms/step - loss: 3.1358e-06 - acc: 1.0000 - val_loss: 4.9432 - val_acc: 0.6984\n",
      "Epoch 128/150\n",
      "2/2 [==============================] - 0s 157ms/step - loss: 1.4393e-05 - acc: 1.0000 - val_loss: 4.9447 - val_acc: 0.6984\n",
      "Epoch 129/150\n",
      "2/2 [==============================] - 0s 153ms/step - loss: 7.0048e-06 - acc: 1.0000 - val_loss: 4.9462 - val_acc: 0.6984\n",
      "Epoch 130/150\n",
      "2/2 [==============================] - 0s 154ms/step - loss: 1.6471e-06 - acc: 1.0000 - val_loss: 4.9475 - val_acc: 0.6984\n",
      "Epoch 131/150\n",
      "2/2 [==============================] - 0s 153ms/step - loss: 7.2612e-05 - acc: 1.0000 - val_loss: 4.9446 - val_acc: 0.6984\n",
      "Epoch 132/150\n",
      "2/2 [==============================] - 0s 150ms/step - loss: 4.6401e-06 - acc: 1.0000 - val_loss: 4.9425 - val_acc: 0.6984\n",
      "Epoch 133/150\n",
      "2/2 [==============================] - 0s 154ms/step - loss: 7.0199e-06 - acc: 1.0000 - val_loss: 4.9410 - val_acc: 0.6984\n",
      "Epoch 134/150\n",
      "2/2 [==============================] - 0s 153ms/step - loss: 2.7743e-06 - acc: 1.0000 - val_loss: 4.9399 - val_acc: 0.6984\n",
      "Epoch 135/150\n",
      "2/2 [==============================] - 0s 148ms/step - loss: 1.5114e-05 - acc: 1.0000 - val_loss: 4.9407 - val_acc: 0.6984\n",
      "Epoch 136/150\n",
      "2/2 [==============================] - 0s 150ms/step - loss: 4.5684e-06 - acc: 1.0000 - val_loss: 4.9423 - val_acc: 0.6984\n",
      "Epoch 137/150\n",
      "2/2 [==============================] - 0s 150ms/step - loss: 1.2202e-05 - acc: 1.0000 - val_loss: 4.9445 - val_acc: 0.6984\n",
      "Epoch 138/150\n",
      "2/2 [==============================] - 0s 148ms/step - loss: 2.9707e-06 - acc: 1.0000 - val_loss: 4.9462 - val_acc: 0.6984\n",
      "Epoch 139/150\n",
      "2/2 [==============================] - 0s 150ms/step - loss: 7.6726e-05 - acc: 1.0000 - val_loss: 4.9598 - val_acc: 0.6984\n",
      "Epoch 140/150\n",
      "2/2 [==============================] - 0s 148ms/step - loss: 6.3147e-06 - acc: 1.0000 - val_loss: 4.9822 - val_acc: 0.6984\n",
      "Epoch 141/150\n",
      "2/2 [==============================] - 0s 151ms/step - loss: 6.7823e-06 - acc: 1.0000 - val_loss: 5.0005 - val_acc: 0.6984\n",
      "Epoch 142/150\n",
      "2/2 [==============================] - 0s 148ms/step - loss: 5.8390e-06 - acc: 1.0000 - val_loss: 5.0154 - val_acc: 0.6984\n",
      "Epoch 143/150\n",
      "2/2 [==============================] - 0s 151ms/step - loss: 3.1357e-05 - acc: 1.0000 - val_loss: 5.0288 - val_acc: 0.6984\n",
      "Epoch 144/150\n",
      "2/2 [==============================] - 0s 169ms/step - loss: 1.7199e-06 - acc: 1.0000 - val_loss: 5.0399 - val_acc: 0.6984\n",
      "Epoch 145/150\n",
      "2/2 [==============================] - 0s 154ms/step - loss: 1.5727e-05 - acc: 1.0000 - val_loss: 5.0506 - val_acc: 0.6984\n",
      "Epoch 146/150\n",
      "2/2 [==============================] - 0s 148ms/step - loss: 2.4642e-06 - acc: 1.0000 - val_loss: 5.0595 - val_acc: 0.6984\n",
      "Epoch 147/150\n",
      "2/2 [==============================] - 0s 153ms/step - loss: 6.8048e-06 - acc: 1.0000 - val_loss: 5.0673 - val_acc: 0.6984\n",
      "Epoch 148/150\n",
      "2/2 [==============================] - 0s 155ms/step - loss: 2.7622e-05 - acc: 1.0000 - val_loss: 5.0724 - val_acc: 0.6984\n",
      "Epoch 149/150\n",
      "2/2 [==============================] - 0s 147ms/step - loss: 2.2805e-05 - acc: 1.0000 - val_loss: 5.0738 - val_acc: 0.6984\n",
      "Epoch 150/150\n",
      "2/2 [==============================] - 0s 149ms/step - loss: 7.4831e-06 - acc: 1.0000 - val_loss: 5.0739 - val_acc: 0.6984\n"
     ]
    },
    {
     "data": {
      "text/plain": [
       "<keras.callbacks.History at 0x2183091eca0>"
      ]
     },
     "execution_count": 32,
     "metadata": {},
     "output_type": "execute_result"
    }
   ],
   "source": [
    "model.fit(x_train,\n",
    "         y_train,\n",
    "         batch_size=128,\n",
    "         epochs=150,\n",
    "         validation_data=(x_valid, y_valid),)"
   ]
  },
  {
   "cell_type": "code",
   "execution_count": 33,
   "id": "068d0540-360a-4f6b-9815-b47c0ae13c60",
   "metadata": {},
   "outputs": [
    {
     "name": "stdout",
     "output_type": "stream",
     "text": [
      "\n",
      " Test accuracy: 0.6984127163887024\n"
     ]
    }
   ],
   "source": [
    "# Evaluate the model on test set\n",
    "score = model.evaluate(x_test, y_test, verbose=0)\n",
    "\n",
    "# Print test accuracy\n",
    "print('\\n', 'Test accuracy:', score[1])"
   ]
  },
  {
   "cell_type": "code",
   "execution_count": 34,
   "id": "77c3dbb4-43c4-489e-be0b-0f7d803cb9d1",
   "metadata": {},
   "outputs": [
    {
     "name": "stdout",
     "output_type": "stream",
     "text": [
      "2/2 [==============================] - 0s 15ms/step\n"
     ]
    },
    {
     "data": {
      "image/png": "[encoded data removed]",
      "text/plain": [
       "<Figure size 2000x800 with 15 Axes>"
      ]
     },
     "metadata": {},
     "output_type": "display_data"
    }
   ],
   "source": [
    "labels =[\"Yes\",  # index 0\n",
    "        \"No\",      # index 1\n",
    "        ]\n",
    "y_hat = model.predict(x_test)\n",
    "\n",
    "# Plot a random sample of 10 test images, their predicted labels and ground truth\n",
    "figure = plt.figure(figsize=(20, 8))\n",
    "for i, index in enumerate(np.random.choice(x_test.shape[0], size=15, replace=False)):\n",
    "    ax = figure.add_subplot(3, 5, i + 1, xticks=[], yticks=[])\n",
    "    # Display each image\n",
    "    ax.imshow(np.squeeze(x_test[index]))\n",
    "    predict_index = np.argmax(y_hat[index])\n",
    "    true_index = np.argmax(y_test[index])\n",
    "    # Set the title for each image\n",
    "    ax.set_title(\"{} ({})\".format(labels[predict_index], \n",
    "                                  labels[true_index]),\n",
    "                                  color=(\"green\" if predict_index == true_index else \"red\"))\n",
    "plt.show()"
   ]
  },
  {
   "cell_type": "code",
   "execution_count": null,
   "id": "75272b32-429d-4f58-afc9-d2654eab726e",
   "metadata": {},
   "outputs": [],
   "source": []
  }
 ],
 "metadata": {
  "kernelspec": {
   "display_name": "Python 3 (ipykernel)",
   "language": "python",
   "name": "python3"
  },
  "language_info": {
   "codemirror_mode": {
    "name": "ipython",
    "version": 3
   },
   "file_extension": ".py",
   "mimetype": "text/x-python",
   "name": "python",
   "nbconvert_exporter": "python",
   "pygments_lexer": "ipython3",
   "version": "3.9.13"
  }
 },
 "nbformat": 4,
 "nbformat_minor": 5
}
